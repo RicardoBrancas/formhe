{
 "cells": [
  {
   "cell_type": "code",
   "execution_count": 1,
   "id": "initial_id",
   "metadata": {
    "collapsed": true,
    "ExecuteTime": {
     "end_time": "2024-03-19T11:31:41.358539Z",
     "start_time": "2024-03-19T11:31:37.146571Z"
    }
   },
   "outputs": [],
   "source": [
    "import pickle\n",
    "import socket\n",
    "import sys\n",
    "from pathlib import Path\n",
    "\n",
    "import numpy as np\n",
    "import torch\n",
    "from datasets import Dataset\n",
    "from peft import TaskType, LoftQConfig, LoraConfig, get_peft_model, AutoPeftModelForSequenceClassification\n",
    "from sklearn.metrics import f1_score, accuracy_score\n",
    "from sklearn.metrics import roc_auc_score\n",
    "from transformers import AutoModelForSequenceClassification, AutoTokenizer\n",
    "from transformers import Trainer, TrainingArguments, EvalPrediction\n",
    "\n",
    "if socket.gethostname() == \"ZAEK\":\n",
    "    if not sys.platform.startswith(\"linux\"):\n",
    "        basepath = Path(\"C:\\\\Users\\\\Ricardo\\\\repos\\\\text-generation-webui\\\\models\")\n",
    "    else:\n",
    "        basepath = Path(\"/mnt/c/Users/Ricardo/repos/text-generation-webui/models\")\n",
    "else:\n",
    "    basepath = Path(\"/data/tmp/models\")\n",
    "\n",
    "MAX_LINES = 20"
   ]
  },
  {
   "cell_type": "code",
   "outputs": [
    {
     "data": {
      "text/plain": "Loading checkpoint shards:   0%|          | 0/2 [00:00<?, ?it/s]",
      "application/vnd.jupyter.widget-view+json": {
       "version_major": 2,
       "version_minor": 0,
       "model_id": "7a4f6fec91e04e55898c96e885c8ab0c"
      }
     },
     "metadata": {},
     "output_type": "display_data"
    },
    {
     "name": "stderr",
     "output_type": "stream",
     "text": [
      "Some weights of GemmaForSequenceClassification were not initialized from the model checkpoint at C:\\Users\\Ricardo\\repos\\text-generation-webui\\models\\gemma-2b-it and are newly initialized: ['score.weight']\n",
      "You should probably TRAIN this model on a down-stream task to be able to use it for predictions and inference.\n"
     ]
    }
   ],
   "source": [
    "model = AutoPeftModelForSequenceClassification.from_pretrained(\"model\", num_labels=MAX_LINES, torch_dtype=torch.bfloat16, problem_type=\"multi_label_classification\", device_map=\"auto\")\n",
    "tokenizer = AutoTokenizer.from_pretrained(basepath / \"gemma-2b-it\")"
   ],
   "metadata": {
    "collapsed": false,
    "ExecuteTime": {
     "end_time": "2024-03-19T11:32:06.028716Z",
     "start_time": "2024-03-19T11:32:02.154819Z"
    }
   },
   "id": "6278960b52efa028",
   "execution_count": 4
  },
  {
   "cell_type": "code",
   "outputs": [
    {
     "data": {
      "text/plain": "[1.0,\n 1.0,\n 0.0,\n 0.0,\n 0.0,\n 0.0,\n 0.0,\n 0.0,\n 0.0,\n 0.0,\n 0.0,\n 0.0,\n 0.0,\n 0.0,\n 0.0,\n 0.0,\n 0.0,\n 0.0,\n 0.0,\n 0.0]"
     },
     "execution_count": 9,
     "metadata": {},
     "output_type": "execute_result"
    }
   ],
   "source": [
    "def predict(predictions, threshold=0.5):\n",
    "    sigmoid = torch.nn.Sigmoid()\n",
    "    probs = sigmoid(torch.Tensor(predictions))\n",
    "    # next, use threshold to turn them into integer predictions\n",
    "    y_pred = np.zeros(probs.shape)\n",
    "    y_pred[np.where(probs >= threshold)] = 1\n",
    "    return y_pred[0].tolist()\n",
    "\n",
    "text = \"\"\"sel(X) :- e(X,E).\n",
    "1 <= { sel(X): s(X) } <= k.\n",
    "inter(X,Y) :- e(X,E); e(Y,E); X != Y.\n",
    " :- inter(X,Y); sel(X); sel(Y).\"\"\"\n",
    "\n",
    "inputs = tokenizer(text,  return_tensors=\"pt\").to(\"cuda\")\n",
    "output = model(**inputs)\n",
    "predict(output[0].cpu())"
   ],
   "metadata": {
    "collapsed": false,
    "ExecuteTime": {
     "end_time": "2024-03-19T11:33:03.033874Z",
     "start_time": "2024-03-19T11:33:02.807222Z"
    }
   },
   "id": "2cb57a9f249edeaf",
   "execution_count": 9
  }
 ],
 "metadata": {
  "kernelspec": {
   "display_name": "Python 3",
   "language": "python",
   "name": "python3"
  },
  "language_info": {
   "codemirror_mode": {
    "name": "ipython",
    "version": 2
   },
   "file_extension": ".py",
   "mimetype": "text/x-python",
   "name": "python",
   "nbconvert_exporter": "python",
   "pygments_lexer": "ipython2",
   "version": "2.7.6"
  }
 },
 "nbformat": 4,
 "nbformat_minor": 5
}
