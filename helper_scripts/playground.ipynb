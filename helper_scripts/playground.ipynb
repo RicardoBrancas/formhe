{
 "cells": [
  {
   "cell_type": "code",
   "execution_count": 1,
   "id": "initial_id",
   "metadata": {
    "ExecuteTime": {
     "end_time": "2024-03-28T13:58:20.052309Z",
     "start_time": "2024-03-28T13:58:18.905788Z"
    }
   },
   "outputs": [],
   "source": [
    "import glob\n",
    "import logging\n",
    "import random\n",
    "import traceback\n",
    "from logging import getLogger\n",
    "from operator import itemgetter\n",
    "\n",
    "from ordered_set import OrderedSet\n",
    "from tqdm.notebook import tqdm\n",
    "\n",
    "from fl.LLM import ListInterpreter\n",
    "from formhe.asp.instance import Instance\n",
    "from formhe.asp.synthesis.ASPSpecGenerator import ASPSpecGenerator\n",
    "from formhe.asp.synthesis.AspVisitor import AspVisitor\n",
    "from formhe.exceptions.parser_exceptions import InstanceGroundingException\n",
    "from formhe.trinity.ng_enumerator import NextGenEnumerator, PresetStatement\n",
    "from formhe.utils.perm import PermutationGeneratorHelper"
   ]
  },
  {
   "cell_type": "code",
   "execution_count": 2,
   "id": "cf774ade0d747610",
   "metadata": {
    "ExecuteTime": {
     "end_time": "2024-03-28T13:58:21.034286Z",
     "start_time": "2024-03-28T13:58:21.025633Z"
    },
    "collapsed": false,
    "jupyter": {
     "outputs_hidden": false
    }
   },
   "outputs": [],
   "source": [
    "instances = glob.glob(\"../correct_instances/mooshak/**/*.lp\")"
   ]
  },
  {
   "cell_type": "code",
   "execution_count": 3,
   "id": "7a8923055d0fbab4",
   "metadata": {
    "ExecuteTime": {
     "end_time": "2024-03-28T13:58:22.736896Z",
     "start_time": "2024-03-28T13:58:22.720468Z"
    },
    "collapsed": false,
    "jupyter": {
     "outputs_hidden": false
    }
   },
   "outputs": [],
   "source": [
    "from utils import config\n",
    "\n",
    "depth = 2\n",
    "cycles = 3\n",
    "mutations_per_program = 30\n",
    "deletions_per_program = 60\n",
    "number_mutations = [1, 2, 3, 4, 5]\n",
    "deletion_probabilities = ([1, 2], [0.8, 0.2])\n",
    "max_percentage_incorrect_lines_threshold = 0.75\n",
    "max_errors_until_quit = 1000\n",
    "\n",
    "conf = config.get()\n",
    "object.__setattr__(conf, \"allow_unsafe_vars\", True)\n",
    "object.__setattr__(conf, \"allow_not_generated_predicates\", True)\n",
    "object.__setattr__(conf, \"disable_head_empty_or_non_constant_constraint\", True)\n",
    "object.__setattr__(conf, \"disable_no_dont_care_in_head_constraint\", True)"
   ]
  },
  {
   "cell_type": "code",
   "execution_count": 4,
   "id": "2e1e65e5f156ee87",
   "metadata": {
    "ExecuteTime": {
     "end_time": "2024-03-28T13:58:25.106655Z",
     "start_time": "2024-03-28T13:58:25.093885Z"
    },
    "collapsed": false,
    "jupyter": {
     "outputs_hidden": false
    }
   },
   "outputs": [],
   "source": [
    "def create_instance_dict(short_name, incorrect_program, correct_program, n_mutations):\n",
    "    incorrect_program_reduced = []\n",
    "    reduce_mapping = {}\n",
    "    reduce_offset = 0\n",
    "    for i, line in enumerate(incorrect_program):\n",
    "        if line == \"\":\n",
    "            reduce_mapping[i] = None\n",
    "            reduce_offset += 1\n",
    "        else:\n",
    "            incorrect_program_reduced.append(line)\n",
    "            reduce_mapping[i] = i - reduce_offset\n",
    "    if len(incorrect_program_reduced) == 0:\n",
    "        return None\n",
    "    incorrect_line_ids_pre = [i for i, b, in enumerate(zip(correct_program, incorrect_program)) if b[0] != b[1]]\n",
    "    incorrect_line_ids = [reduce_mapping[i] for i, b, in enumerate(zip(correct_program, incorrect_program)) if b[0] != b[1] and b[1] != \"\"]\n",
    "    fl = incorrect_line_ids + list(map(lambda x: x - reduce_offset, range(len(correct_program), len(incorrect_program))))\n",
    "    correction_tmp = itemgetter(*incorrect_line_ids_pre)(correct_program) if len(incorrect_line_ids_pre) != 0 else ()\n",
    "    correction = list(correction_tmp) if isinstance(correction_tmp, tuple) else [correction_tmp]\n",
    "    if len(fl) / len(incorrect_program_reduced) >= max_percentage_incorrect_lines_threshold:\n",
    "        return None\n",
    "    for line_id in fl:\n",
    "        assert line_id < len(incorrect_program_reduced)\n",
    "    return {'instance': short_name,\n",
    "            'correct_program_lines': correct_program,\n",
    "            'correct_program': \"\\n\".join(correct_program),\n",
    "            'incorrect_program_lines': incorrect_program_reduced,\n",
    "            'incorrect_program': \"\\n\".join(incorrect_program_reduced),\n",
    "            'correction': correction,\n",
    "            'n_mutations': n_mutations,\n",
    "            'missing_lines': any([True for line in incorrect_program if line == \"\"]),\n",
    "            'n_mising_lines': sum([1 for line in incorrect_program if line == \"\"]),\n",
    "            'fl': fl,\n",
    "            'line_scores': [1.0 if i in fl else 0.0 for i in range(len(incorrect_program_reduced))]\n",
    "            }\n",
    "\n",
    "\n",
    "def process_instance(instance_file):\n",
    "    short_name = instance_file.replace(\"../correct_instances/\", \"\")\n",
    "    print(\"Generating mutations for\", short_name)\n",
    "    mutations_results = []\n",
    "    t = tqdm(total=((mutations_per_program * len(number_mutations)) + deletions_per_program) * cycles)\n",
    "    t.set_description(short_name)\n",
    "    for cycle_i in range(cycles):\n",
    "        object.__setattr__(conf, \"seed\", \"yas\" + short_name + str(cycle_i))\n",
    "\n",
    "        try:\n",
    "            instance = Instance(instance_file, shuffle=cycle_i != 0)\n",
    "        except Exception as ex:\n",
    "            print(\"Skipping\", short_name)\n",
    "            print(ex)\n",
    "            continue\n",
    "\n",
    "        predicates = instance.constantCollector.predicates\n",
    "        spec_generator = ASPSpecGenerator(instance, instance.config.extra_vars, predicates.items())\n",
    "        trinity_spec = spec_generator.trinity_spec\n",
    "        asp_visitor = AspVisitor(trinity_spec, spec_generator.free_vars)\n",
    "        asp_interpreter = ListInterpreter(instance, predicates.keys())\n",
    "\n",
    "        try:\n",
    "            correct_program = instance.get_program_lines()\n",
    "            semi_bound_statements = []\n",
    "            for rule in instance.constantCollector.not_skipped:\n",
    "                node = asp_visitor.visit(rule)\n",
    "                semi_bound_statements.append(PresetStatement(node.children[0], node.children[1].children))\n",
    "        except Exception as ex:\n",
    "            print(\"Skipping\", short_name)\n",
    "            print(ex)\n",
    "            continue\n",
    "\n",
    "        for i in range(deletions_per_program):\n",
    "            to_delete_n = random.choices(deletion_probabilities[0], deletion_probabilities[1])[0]\n",
    "            lines_to_delete = random.sample(list(range(len(correct_program))), to_delete_n)\n",
    "            incorrect_program = [l if i not in lines_to_delete else \"\" for i, l in enumerate(correct_program)]\n",
    "            d = create_instance_dict(short_name, incorrect_program, correct_program, -1)\n",
    "            if d is None:\n",
    "                continue\n",
    "            t.update()\n",
    "            mutations_results.append(d)\n",
    "\n",
    "        empty_statements = [PresetStatement(None, [])]\n",
    "\n",
    "        enumerator = NextGenEnumerator(trinity_spec, depth,\n",
    "                                       semi_bound_statements=semi_bound_statements + empty_statements, free_predicates=OrderedSet(predicates.keys()) - instance.constantCollector.predicates_generated,\n",
    "                                       force_generate_predicates=instance.constantCollector.predicates_used - instance.constantCollector.predicates_generated,\n",
    "                                       additional_body_roots=1)\n",
    "        \n",
    "        enumerator.solver.set(\"timeout\", 10000)\n",
    "\n",
    "        for n_mutations in number_mutations:\n",
    "            while enumerator.solver.num_scopes() >= 1:\n",
    "                enumerator.solver.pop()\n",
    "            perm_helper = PermutationGeneratorHelper(\"yas\" + short_name + str(cycle_i), len(enumerator.relaxation_vars()), n_mutations, enumerator, return_perms=True)\n",
    "            mut_count = 0\n",
    "            j = 0\n",
    "            while mut_count < mutations_per_program and j <= max_errors_until_quit:\n",
    "                prog, perm = perm_helper.next()\n",
    "\n",
    "                if prog is None:\n",
    "                    break\n",
    "\n",
    "                try:\n",
    "                    asp_prog = asp_interpreter.eval(prog)\n",
    "                    evaluation_result = asp_interpreter.test(\"\\n\".join(asp_prog))\n",
    "\n",
    "                    if evaluation_result:\n",
    "                        j += 1\n",
    "                        pass\n",
    "                    else:\n",
    "                        d = create_instance_dict(short_name, asp_prog, correct_program, n_mutations)\n",
    "                        if d is None:\n",
    "                            continue\n",
    "                        mut_count += 1\n",
    "                        t.update()\n",
    "                        mutations_results.append(d)\n",
    "                except InstanceGroundingException:\n",
    "                    j += 1\n",
    "                    pass\n",
    "                except AssertionError as e:\n",
    "                    j += 1\n",
    "                    traceback.print_exception(e)\n",
    "                except Exception as e:\n",
    "                    j += 1\n",
    "                    pass\n",
    "                    #traceback.print_exception(e)\n",
    "\n",
    "    return mutations_results"
   ]
  },
  {
   "cell_type": "code",
   "execution_count": null,
   "id": "4ee6f509e14234b2",
   "metadata": {
    "ExecuteTime": {
     "end_time": "2024-03-28T13:59:52.825479Z",
     "start_time": "2024-03-28T13:58:32.178227Z"
    },
    "collapsed": false,
    "jupyter": {
     "outputs_hidden": false
    }
   },
   "outputs": [
    {
     "name": "stdout",
     "output_type": "stream",
     "text": [
      "Generating mutations forGenerating mutations forGenerating mutations forGenerating mutations for  Generating mutations forGenerating mutations for  Generating mutations forGenerating mutations formooshak/01/A_0_1.lp mooshak/01/A_1_2.lp   \n",
      "mooshak/01/A_3_3.lpmooshak/01/A_5_1.lpmooshak/01/A_6_1.lpmooshak/01/A_2_1.lp\n",
      "mooshak/01/A_4_8.lp\n",
      "mooshak/01/A_7_2.lp\n",
      "\n",
      "\n",
      "\n",
      "\n"
     ]
    },
    {
     "data": {
      "application/vnd.jupyter.widget-view+json": {
       "model_id": "a085c027fbfa4f9eab3910925aaf76ca",
       "version_major": 2,
       "version_minor": 0
      },
      "text/plain": [
       "  0%|          | 0/630 [00:00<?, ?it/s]"
      ]
     },
     "metadata": {},
     "output_type": "display_data"
    },
    {
     "data": {
      "application/vnd.jupyter.widget-view+json": {
       "model_id": "b6305ef5ce3f4abf97a3ba0e156e965a",
       "version_major": 2,
       "version_minor": 0
      },
      "text/plain": [
       "  0%|          | 0/630 [00:00<?, ?it/s]"
      ]
     },
     "metadata": {},
     "output_type": "display_data"
    },
    {
     "data": {
      "application/vnd.jupyter.widget-view+json": {
       "model_id": "4afe1c7f356a470bb2ef2d1fa8a4699d",
       "version_major": 2,
       "version_minor": 0
      },
      "text/plain": [
       "  0%|          | 0/630 [00:00<?, ?it/s]"
      ]
     },
     "metadata": {},
     "output_type": "display_data"
    },
    {
     "data": {
      "application/vnd.jupyter.widget-view+json": {
       "model_id": "e3356399d1be482ebabb3b78cfb61817",
       "version_major": 2,
       "version_minor": 0
      },
      "text/plain": [
       "  0%|          | 0/630 [00:00<?, ?it/s]"
      ]
     },
     "metadata": {},
     "output_type": "display_data"
    },
    {
     "data": {
      "application/vnd.jupyter.widget-view+json": {
       "model_id": "1d8cff53b9614635a81bfb65edc647d4",
       "version_major": 2,
       "version_minor": 0
      },
      "text/plain": [
       "  0%|          | 0/630 [00:00<?, ?it/s]"
      ]
     },
     "metadata": {},
     "output_type": "display_data"
    },
    {
     "data": {
      "application/vnd.jupyter.widget-view+json": {
       "model_id": "f374f555161846dfbe63521261205cbe",
       "version_major": 2,
       "version_minor": 0
      },
      "text/plain": [
       "  0%|          | 0/630 [00:00<?, ?it/s]"
      ]
     },
     "metadata": {},
     "output_type": "display_data"
    },
    {
     "data": {
      "application/vnd.jupyter.widget-view+json": {
       "model_id": "46d58fa87af04cd29ec3028556671bc2",
       "version_major": 2,
       "version_minor": 0
      },
      "text/plain": [
       "  0%|          | 0/630 [00:00<?, ?it/s]"
      ]
     },
     "metadata": {},
     "output_type": "display_data"
    },
    {
     "data": {
      "application/vnd.jupyter.widget-view+json": {
       "model_id": "bef5feb216364f99a589a89a6210e92d",
       "version_major": 2,
       "version_minor": 0
      },
      "text/plain": [
       "  0%|          | 0/630 [00:00<?, ?it/s]"
      ]
     },
     "metadata": {},
     "output_type": "display_data"
    },
    {
     "data": {
      "application/vnd.jupyter.widget-view+json": {
       "model_id": "19b8bf96b4d646a898a37720b5336eb8",
       "version_major": 2,
       "version_minor": 0
      },
      "text/plain": [
       "  0%|          | 0/68 [00:00<?, ?it/s]"
      ]
     },
     "metadata": {},
     "output_type": "display_data"
    },
    {
     "name": "stdout",
     "output_type": "stream",
     "text": [
      "Generating mutations for mooshak/01/B_0_1.lp\n"
     ]
    },
    {
     "data": {
      "application/vnd.jupyter.widget-view+json": {
       "model_id": "1579be1e32f8472583f4ea0b3961d682",
       "version_major": 2,
       "version_minor": 0
      },
      "text/plain": [
       "  0%|          | 0/630 [00:00<?, ?it/s]"
      ]
     },
     "metadata": {},
     "output_type": "display_data"
    },
    {
     "name": "stdout",
     "output_type": "stream",
     "text": [
      "Generating mutations for mooshak/01/B_1_1.lp\n"
     ]
    },
    {
     "data": {
      "application/vnd.jupyter.widget-view+json": {
       "model_id": "8f4296b9a07d4b78a94a08fa4878b4e7",
       "version_major": 2,
       "version_minor": 0
      },
      "text/plain": [
       "  0%|          | 0/630 [00:00<?, ?it/s]"
      ]
     },
     "metadata": {},
     "output_type": "display_data"
    },
    {
     "name": "stdout",
     "output_type": "stream",
     "text": [
      "Generating mutations for mooshak/01/B_2_1.lp\n"
     ]
    },
    {
     "data": {
      "application/vnd.jupyter.widget-view+json": {
       "model_id": "03a615dfa5d441e887667685adb60536",
       "version_major": 2,
       "version_minor": 0
      },
      "text/plain": [
       "  0%|          | 0/630 [00:00<?, ?it/s]"
      ]
     },
     "metadata": {},
     "output_type": "display_data"
    },
    {
     "name": "stdout",
     "output_type": "stream",
     "text": [
      "Generating mutations for mooshak/01/B_3_1.lp\n"
     ]
    },
    {
     "data": {
      "application/vnd.jupyter.widget-view+json": {
       "model_id": "17fe97773acd4207a6df222a01cfe23a",
       "version_major": 2,
       "version_minor": 0
      },
      "text/plain": [
       "  0%|          | 0/630 [00:00<?, ?it/s]"
      ]
     },
     "metadata": {},
     "output_type": "display_data"
    },
    {
     "name": "stdout",
     "output_type": "stream",
     "text": [
      "Generating mutations for mooshak/01/B_4_3.lp\n"
     ]
    },
    {
     "data": {
      "application/vnd.jupyter.widget-view+json": {
       "model_id": "33c3b6f085a2480982feac80b60aeefe",
       "version_major": 2,
       "version_minor": 0
      },
      "text/plain": [
       "  0%|          | 0/630 [00:00<?, ?it/s]"
      ]
     },
     "metadata": {},
     "output_type": "display_data"
    },
    {
     "name": "stdout",
     "output_type": "stream",
     "text": [
      "Generating mutations for mooshak/01/B_5_1.lp\n"
     ]
    },
    {
     "data": {
      "application/vnd.jupyter.widget-view+json": {
       "model_id": "c322611a203e4de1bcc257620eb959fe",
       "version_major": 2,
       "version_minor": 0
      },
      "text/plain": [
       "  0%|          | 0/630 [00:00<?, ?it/s]"
      ]
     },
     "metadata": {},
     "output_type": "display_data"
    },
    {
     "name": "stdout",
     "output_type": "stream",
     "text": [
      "Generating mutations for mooshak/01/B_6_1.lp\n"
     ]
    },
    {
     "data": {
      "application/vnd.jupyter.widget-view+json": {
       "model_id": "571798fd8e624919a9fb55852a6b7297",
       "version_major": 2,
       "version_minor": 0
      },
      "text/plain": [
       "  0%|          | 0/630 [00:00<?, ?it/s]"
      ]
     },
     "metadata": {},
     "output_type": "display_data"
    },
    {
     "name": "stdout",
     "output_type": "stream",
     "text": [
      "Generating mutations for\n",
      " mooshak/01/B_7_1.lp"
     ]
    },
    {
     "data": {
      "application/vnd.jupyter.widget-view+json": {
       "model_id": "42c563a76d154514a43529de7f547047",
       "version_major": 2,
       "version_minor": 0
      },
      "text/plain": [
       "  0%|          | 0/630 [00:00<?, ?it/s]"
      ]
     },
     "metadata": {},
     "output_type": "display_data"
    },
    {
     "name": "stdout",
     "output_type": "stream",
     "text": [
      "Generating mutations for mooshak/01/B_8_2.lp\n"
     ]
    },
    {
     "data": {
      "application/vnd.jupyter.widget-view+json": {
       "model_id": "a5441ee0f1114d0e8e6c3b2ba86b0647",
       "version_major": 2,
       "version_minor": 0
      },
      "text/plain": [
       "  0%|          | 0/630 [00:00<?, ?it/s]"
      ]
     },
     "metadata": {},
     "output_type": "display_data"
    },
    {
     "name": "stdout",
     "output_type": "stream",
     "text": [
      "Generating mutations for mooshak/01/B_8_3.lp\n"
     ]
    },
    {
     "data": {
      "application/vnd.jupyter.widget-view+json": {
       "model_id": "e69c1f146c5e42ac917c21c6b1880278",
       "version_major": 2,
       "version_minor": 0
      },
      "text/plain": [
       "  0%|          | 0/630 [00:00<?, ?it/s]"
      ]
     },
     "metadata": {},
     "output_type": "display_data"
    },
    {
     "name": "stdout",
     "output_type": "stream",
     "text": [
      "Generating mutations for mooshak/01/B_8_4.lp\n"
     ]
    },
    {
     "data": {
      "application/vnd.jupyter.widget-view+json": {
       "model_id": "00f6cccc79404bdca9d43a10ddc11a05",
       "version_major": 2,
       "version_minor": 0
      },
      "text/plain": [
       "  0%|          | 0/630 [00:00<?, ?it/s]"
      ]
     },
     "metadata": {},
     "output_type": "display_data"
    },
    {
     "name": "stdout",
     "output_type": "stream",
     "text": [
      "Generating mutations formooshak/01/C_0_1.lp \n"
     ]
    },
    {
     "data": {
      "application/vnd.jupyter.widget-view+json": {
       "model_id": "7825ad07b0d0403681f659d5736004bd",
       "version_major": 2,
       "version_minor": 0
      },
      "text/plain": [
       "  0%|          | 0/630 [00:00<?, ?it/s]"
      ]
     },
     "metadata": {},
     "output_type": "display_data"
    },
    {
     "name": "stdout",
     "output_type": "stream",
     "text": [
      "Generating mutations for mooshak/01/C_1_6.lp\n"
     ]
    },
    {
     "data": {
      "application/vnd.jupyter.widget-view+json": {
       "model_id": "981a437d4d364a4c8e8ebaa4b8442a2a",
       "version_major": 2,
       "version_minor": 0
      },
      "text/plain": [
       "  0%|          | 0/630 [00:00<?, ?it/s]"
      ]
     },
     "metadata": {},
     "output_type": "display_data"
    },
    {
     "name": "stdout",
     "output_type": "stream",
     "text": [
      "Generating mutations for mooshak/01/C_2_1.lp\n"
     ]
    },
    {
     "data": {
      "application/vnd.jupyter.widget-view+json": {
       "model_id": "b955022b70244018bcc41cdbdf74183f",
       "version_major": 2,
       "version_minor": 0
      },
      "text/plain": [
       "  0%|          | 0/630 [00:00<?, ?it/s]"
      ]
     },
     "metadata": {},
     "output_type": "display_data"
    },
    {
     "name": "stdout",
     "output_type": "stream",
     "text": [
      "Generating mutations for mooshak/01/C_3_1.lp\n"
     ]
    },
    {
     "data": {
      "application/vnd.jupyter.widget-view+json": {
       "model_id": "30c11ad13f9547cab6b313c7b7e41061",
       "version_major": 2,
       "version_minor": 0
      },
      "text/plain": [
       "  0%|          | 0/630 [00:00<?, ?it/s]"
      ]
     },
     "metadata": {},
     "output_type": "display_data"
    },
    {
     "name": "stdout",
     "output_type": "stream",
     "text": [
      "Generating mutations for mooshak/01/C_4_1.lp\n"
     ]
    },
    {
     "data": {
      "application/vnd.jupyter.widget-view+json": {
       "model_id": "83601ae7a31c4a91af4a1bc6692a344b",
       "version_major": 2,
       "version_minor": 0
      },
      "text/plain": [
       "  0%|          | 0/630 [00:00<?, ?it/s]"
      ]
     },
     "metadata": {},
     "output_type": "display_data"
    },
    {
     "name": "stdout",
     "output_type": "stream",
     "text": [
      "Generating mutations for mooshak/01/C_5_1.lp\n"
     ]
    },
    {
     "data": {
      "application/vnd.jupyter.widget-view+json": {
       "model_id": "9242edea68484569b272107ade346a8c",
       "version_major": 2,
       "version_minor": 0
      },
      "text/plain": [
       "  0%|          | 0/630 [00:00<?, ?it/s]"
      ]
     },
     "metadata": {},
     "output_type": "display_data"
    },
    {
     "name": "stdout",
     "output_type": "stream",
     "text": [
      "Generating mutations for mooshak/01/C_7_1.lp\n"
     ]
    },
    {
     "data": {
      "application/vnd.jupyter.widget-view+json": {
       "model_id": "d204ffb40bbf4e5dae2f2103c172c8fc",
       "version_major": 2,
       "version_minor": 0
      },
      "text/plain": [
       "  0%|          | 0/630 [00:00<?, ?it/s]"
      ]
     },
     "metadata": {},
     "output_type": "display_data"
    },
    {
     "name": "stdout",
     "output_type": "stream",
     "text": [
      "Generating mutations for mooshak/01/C_8_1.lp\n"
     ]
    },
    {
     "data": {
      "application/vnd.jupyter.widget-view+json": {
       "model_id": "dc7edb9048754487b1956922c47535a6",
       "version_major": 2,
       "version_minor": 0
      },
      "text/plain": [
       "  0%|          | 0/630 [00:00<?, ?it/s]"
      ]
     },
     "metadata": {},
     "output_type": "display_data"
    },
    {
     "name": "stdout",
     "output_type": "stream",
     "text": [
      "Generating mutations for mooshak/01/D_0_1.lp\n"
     ]
    },
    {
     "data": {
      "application/vnd.jupyter.widget-view+json": {
       "model_id": "8d4c4f6c7d9749b3b2b2864ffb008cd0",
       "version_major": 2,
       "version_minor": 0
      },
      "text/plain": [
       "  0%|          | 0/630 [00:00<?, ?it/s]"
      ]
     },
     "metadata": {},
     "output_type": "display_data"
    },
    {
     "name": "stdout",
     "output_type": "stream",
     "text": [
      "Generating mutations for mooshak/01/D_4_6.lp\n"
     ]
    },
    {
     "data": {
      "application/vnd.jupyter.widget-view+json": {
       "model_id": "850baae764b44bf6bcaebbed1ffdf5b1",
       "version_major": 2,
       "version_minor": 0
      },
      "text/plain": [
       "  0%|          | 0/630 [00:00<?, ?it/s]"
      ]
     },
     "metadata": {},
     "output_type": "display_data"
    },
    {
     "name": "stdout",
     "output_type": "stream",
     "text": [
      "Generating mutations for mooshak/01/D_6_1.lp\n"
     ]
    },
    {
     "data": {
      "application/vnd.jupyter.widget-view+json": {
       "model_id": "ab82e05072d24d2b98f091192cefe2ce",
       "version_major": 2,
       "version_minor": 0
      },
      "text/plain": [
       "  0%|          | 0/630 [00:00<?, ?it/s]"
      ]
     },
     "metadata": {},
     "output_type": "display_data"
    },
    {
     "name": "stdout",
     "output_type": "stream",
     "text": [
      "Generating mutations for mooshak/01/D_8_3.lp\n"
     ]
    },
    {
     "data": {
      "application/vnd.jupyter.widget-view+json": {
       "model_id": "a42ab6d76c454006a888c03a5cb88ca8",
       "version_major": 2,
       "version_minor": 0
      },
      "text/plain": [
       "  0%|          | 0/630 [00:00<?, ?it/s]"
      ]
     },
     "metadata": {},
     "output_type": "display_data"
    },
    {
     "name": "stdout",
     "output_type": "stream",
     "text": [
      "Generating mutations for mooshak/01/D_8_4.lp\n"
     ]
    },
    {
     "data": {
      "application/vnd.jupyter.widget-view+json": {
       "model_id": "59074533b20044d7ace95771d7fc7c04",
       "version_major": 2,
       "version_minor": 0
      },
      "text/plain": [
       "  0%|          | 0/630 [00:00<?, ?it/s]"
      ]
     },
     "metadata": {},
     "output_type": "display_data"
    },
    {
     "name": "stdout",
     "output_type": "stream",
     "text": [
      "Generating mutations for\n",
      " mooshak/01/D_8_5.lp"
     ]
    },
    {
     "data": {
      "application/vnd.jupyter.widget-view+json": {
       "model_id": "53e086063cbf4cb7ac019975456d50c4",
       "version_major": 2,
       "version_minor": 0
      },
      "text/plain": [
       "  0%|          | 0/630 [00:00<?, ?it/s]"
      ]
     },
     "metadata": {},
     "output_type": "display_data"
    },
    {
     "name": "stdout",
     "output_type": "stream",
     "text": [
      "Generating mutations for mooshak/01/D_8_6.lp\n"
     ]
    },
    {
     "data": {
      "application/vnd.jupyter.widget-view+json": {
       "model_id": "22aa6512d43f4b48a004d58af32fd07b",
       "version_major": 2,
       "version_minor": 0
      },
      "text/plain": [
       "  0%|          | 0/630 [00:00<?, ?it/s]"
      ]
     },
     "metadata": {},
     "output_type": "display_data"
    },
    {
     "name": "stdout",
     "output_type": "stream",
     "text": [
      "Generating mutations for mooshak/01/E_0_1.lp\n"
     ]
    },
    {
     "data": {
      "application/vnd.jupyter.widget-view+json": {
       "model_id": "a0111084251548f991cc687c264b08da",
       "version_major": 2,
       "version_minor": 0
      },
      "text/plain": [
       "  0%|          | 0/630 [00:00<?, ?it/s]"
      ]
     },
     "metadata": {},
     "output_type": "display_data"
    },
    {
     "name": "stdout",
     "output_type": "stream",
     "text": [
      "Generating mutations for\n",
      " mooshak/01/E_1_2.lp"
     ]
    },
    {
     "data": {
      "application/vnd.jupyter.widget-view+json": {
       "model_id": "3eebfc4ee0f8473e8214a2dfa0921aa7",
       "version_major": 2,
       "version_minor": 0
      },
      "text/plain": [
       "  0%|          | 0/630 [00:00<?, ?it/s]"
      ]
     },
     "metadata": {},
     "output_type": "display_data"
    },
    {
     "name": "stdout",
     "output_type": "stream",
     "text": [
      "Generating mutations for mooshak/01/E_2_1.lp\n"
     ]
    },
    {
     "data": {
      "application/vnd.jupyter.widget-view+json": {
       "model_id": "cecc810907af4cf6adde0accd4788c9a",
       "version_major": 2,
       "version_minor": 0
      },
      "text/plain": [
       "  0%|          | 0/630 [00:00<?, ?it/s]"
      ]
     },
     "metadata": {},
     "output_type": "display_data"
    },
    {
     "name": "stdout",
     "output_type": "stream",
     "text": [
      "Generating mutations for mooshak/01/E_4_4.lp\n"
     ]
    },
    {
     "data": {
      "application/vnd.jupyter.widget-view+json": {
       "model_id": "03d127bdf1e5456e8ec109b637a43bce",
       "version_major": 2,
       "version_minor": 0
      },
      "text/plain": [
       "  0%|          | 0/630 [00:00<?, ?it/s]"
      ]
     },
     "metadata": {},
     "output_type": "display_data"
    },
    {
     "name": "stdout",
     "output_type": "stream",
     "text": [
      "Generating mutations formooshak/01/E_5_1.lp \n"
     ]
    },
    {
     "data": {
      "application/vnd.jupyter.widget-view+json": {
       "model_id": "c5826aabb0274f1cb1ebc21fe31ed440",
       "version_major": 2,
       "version_minor": 0
      },
      "text/plain": [
       "  0%|          | 0/630 [00:00<?, ?it/s]"
      ]
     },
     "metadata": {},
     "output_type": "display_data"
    },
    {
     "name": "stdout",
     "output_type": "stream",
     "text": [
      "\n",
      "Generating mutations for mooshak/01/E_6_2.lp"
     ]
    },
    {
     "data": {
      "application/vnd.jupyter.widget-view+json": {
       "model_id": "6906c539bdd94c2482b9f6a3cf452b53",
       "version_major": 2,
       "version_minor": 0
      },
      "text/plain": [
       "  0%|          | 0/630 [00:00<?, ?it/s]"
      ]
     },
     "metadata": {},
     "output_type": "display_data"
    },
    {
     "name": "stdout",
     "output_type": "stream",
     "text": [
      "Generating mutations for mooshak/01/E_7_1.lp\n"
     ]
    },
    {
     "data": {
      "application/vnd.jupyter.widget-view+json": {
       "model_id": "e9ddc5326f934a4d9222aa58ee8a64bd",
       "version_major": 2,
       "version_minor": 0
      },
      "text/plain": [
       "  0%|          | 0/630 [00:00<?, ?it/s]"
      ]
     },
     "metadata": {},
     "output_type": "display_data"
    },
    {
     "name": "stdout",
     "output_type": "stream",
     "text": [
      "Generating mutations formooshak/01/E_8_1.lp \n"
     ]
    },
    {
     "data": {
      "application/vnd.jupyter.widget-view+json": {
       "model_id": "00864756436d41e1b16555e637fe9155",
       "version_major": 2,
       "version_minor": 0
      },
      "text/plain": [
       "  0%|          | 0/630 [00:00<?, ?it/s]"
      ]
     },
     "metadata": {},
     "output_type": "display_data"
    },
    {
     "name": "stdout",
     "output_type": "stream",
     "text": [
      "Generating mutations for mooshak/02/A_13_1.lp\n"
     ]
    },
    {
     "data": {
      "application/vnd.jupyter.widget-view+json": {
       "model_id": "84ac8a5db05b43bbb8ff0bd32c86b1bd",
       "version_major": 2,
       "version_minor": 0
      },
      "text/plain": [
       "  0%|          | 0/630 [00:00<?, ?it/s]"
      ]
     },
     "metadata": {},
     "output_type": "display_data"
    },
    {
     "name": "stdout",
     "output_type": "stream",
     "text": [
      "Generating mutations for mooshak/02/A_15_1.lp\n"
     ]
    },
    {
     "data": {
      "application/vnd.jupyter.widget-view+json": {
       "model_id": "8b0035e71855448f8aa203026b8692db",
       "version_major": 2,
       "version_minor": 0
      },
      "text/plain": [
       "  0%|          | 0/630 [00:00<?, ?it/s]"
      ]
     },
     "metadata": {},
     "output_type": "display_data"
    },
    {
     "name": "stdout",
     "output_type": "stream",
     "text": [
      "Generating mutations for mooshak/02/A_16_0.lp\n"
     ]
    },
    {
     "data": {
      "application/vnd.jupyter.widget-view+json": {
       "model_id": "823b232fae7543c28fcab69ecaff3b96",
       "version_major": 2,
       "version_minor": 0
      },
      "text/plain": [
       "  0%|          | 0/630 [00:00<?, ?it/s]"
      ]
     },
     "metadata": {},
     "output_type": "display_data"
    },
    {
     "name": "stdout",
     "output_type": "stream",
     "text": [
      "Generating mutations for mooshak/02/A_19_0.lp\n"
     ]
    },
    {
     "data": {
      "application/vnd.jupyter.widget-view+json": {
       "model_id": "e0dfc789a5314add8c3716ed172bc63d",
       "version_major": 2,
       "version_minor": 0
      },
      "text/plain": [
       "  0%|          | 0/630 [00:00<?, ?it/s]"
      ]
     },
     "metadata": {},
     "output_type": "display_data"
    },
    {
     "name": "stdout",
     "output_type": "stream",
     "text": [
      "Generating mutations for mooshak/02/A_19_1.lp\n"
     ]
    },
    {
     "data": {
      "application/vnd.jupyter.widget-view+json": {
       "model_id": "4274a092839e4c0cb6bb5c4cccb0c7a0",
       "version_major": 2,
       "version_minor": 0
      },
      "text/plain": [
       "  0%|          | 0/630 [00:00<?, ?it/s]"
      ]
     },
     "metadata": {},
     "output_type": "display_data"
    },
    {
     "name": "stdout",
     "output_type": "stream",
     "text": [
      "Generating mutations for mooshak/02/A_20_0.lp\n"
     ]
    },
    {
     "data": {
      "application/vnd.jupyter.widget-view+json": {
       "model_id": "e6acf276bf3243f5ae81e01242aeb43c",
       "version_major": 2,
       "version_minor": 0
      },
      "text/plain": [
       "  0%|          | 0/630 [00:00<?, ?it/s]"
      ]
     },
     "metadata": {},
     "output_type": "display_data"
    },
    {
     "name": "stdout",
     "output_type": "stream",
     "text": [
      "Generating mutations for mooshak/02/A_9_1.lp\n"
     ]
    },
    {
     "data": {
      "application/vnd.jupyter.widget-view+json": {
       "model_id": "83dde073bb724c2b967103bba7b8f72b",
       "version_major": 2,
       "version_minor": 0
      },
      "text/plain": [
       "  0%|          | 0/630 [00:00<?, ?it/s]"
      ]
     },
     "metadata": {},
     "output_type": "display_data"
    },
    {
     "name": "stdout",
     "output_type": "stream",
     "text": [
      "Generating mutations for mooshak/02/B_13_0.lp\n"
     ]
    },
    {
     "data": {
      "application/vnd.jupyter.widget-view+json": {
       "model_id": "c9698ff0c4174d04932d83c657c26d6c",
       "version_major": 2,
       "version_minor": 0
      },
      "text/plain": [
       "  0%|          | 0/630 [00:00<?, ?it/s]"
      ]
     },
     "metadata": {},
     "output_type": "display_data"
    },
    {
     "name": "stdout",
     "output_type": "stream",
     "text": [
      "Generating mutations formooshak/02/B_15_0.lp \n"
     ]
    },
    {
     "data": {
      "application/vnd.jupyter.widget-view+json": {
       "model_id": "e4bc1792b4664a5784ddfb7729ee404a",
       "version_major": 2,
       "version_minor": 0
      },
      "text/plain": [
       "  0%|          | 0/630 [00:00<?, ?it/s]"
      ]
     },
     "metadata": {},
     "output_type": "display_data"
    },
    {
     "name": "stdout",
     "output_type": "stream",
     "text": [
      "Generating mutations for mooshak/02/B_16_0.lp\n"
     ]
    },
    {
     "data": {
      "application/vnd.jupyter.widget-view+json": {
       "model_id": "5488a80f4186414b9591d24841a87060",
       "version_major": 2,
       "version_minor": 0
      },
      "text/plain": [
       "  0%|          | 0/630 [00:00<?, ?it/s]"
      ]
     },
     "metadata": {},
     "output_type": "display_data"
    },
    {
     "name": "stdout",
     "output_type": "stream",
     "text": [
      "Generating mutations for mooshak/02/B_19_0.lp\n"
     ]
    },
    {
     "data": {
      "application/vnd.jupyter.widget-view+json": {
       "model_id": "eea99e646210479e8eb05b5c5d2d5af9",
       "version_major": 2,
       "version_minor": 0
      },
      "text/plain": [
       "  0%|          | 0/630 [00:00<?, ?it/s]"
      ]
     },
     "metadata": {},
     "output_type": "display_data"
    },
    {
     "name": "stdout",
     "output_type": "stream",
     "text": [
      "Skipping mooshak/02/B_19_0.lp\n",
      "\n",
      "Skipping mooshak/02/B_19_0.lp\n",
      "\n",
      "Generating mutations formooshak/02/B_20_1.lp \n"
     ]
    },
    {
     "data": {
      "application/vnd.jupyter.widget-view+json": {
       "model_id": "5fd1c23175f84455ad0800ee9e3bb21f",
       "version_major": 2,
       "version_minor": 0
      },
      "text/plain": [
       "  0%|          | 0/630 [00:00<?, ?it/s]"
      ]
     },
     "metadata": {},
     "output_type": "display_data"
    },
    {
     "name": "stdout",
     "output_type": "stream",
     "text": [
      "Generating mutations for mooshak/02/B_9_0.lp\n"
     ]
    },
    {
     "data": {
      "application/vnd.jupyter.widget-view+json": {
       "model_id": "ae3d23ffb6ba43118600dcb17b00a630",
       "version_major": 2,
       "version_minor": 0
      },
      "text/plain": [
       "  0%|          | 0/630 [00:00<?, ?it/s]"
      ]
     },
     "metadata": {},
     "output_type": "display_data"
    },
    {
     "name": "stdout",
     "output_type": "stream",
     "text": [
      "Generating mutations for mooshak/02/C_15_0.lp\n"
     ]
    },
    {
     "data": {
      "application/vnd.jupyter.widget-view+json": {
       "model_id": "93da9d68f2d5470bb238f14a0fc342cb",
       "version_major": 2,
       "version_minor": 0
      },
      "text/plain": [
       "  0%|          | 0/630 [00:00<?, ?it/s]"
      ]
     },
     "metadata": {},
     "output_type": "display_data"
    },
    {
     "name": "stdout",
     "output_type": "stream",
     "text": [
      "Generating mutations for mooshak/02/C_16_0.lp\n"
     ]
    },
    {
     "data": {
      "application/vnd.jupyter.widget-view+json": {
       "model_id": "8ce3a538cc1542a2857d3c9071adcc2b",
       "version_major": 2,
       "version_minor": 0
      },
      "text/plain": [
       "  0%|          | 0/630 [00:00<?, ?it/s]"
      ]
     },
     "metadata": {},
     "output_type": "display_data"
    },
    {
     "name": "stdout",
     "output_type": "stream",
     "text": [
      "Generating mutations for mooshak/02/C_19_0.lp\n"
     ]
    },
    {
     "data": {
      "application/vnd.jupyter.widget-view+json": {
       "model_id": "97541c35d9144e70a8e724c32a4768e1",
       "version_major": 2,
       "version_minor": 0
      },
      "text/plain": [
       "  0%|          | 0/630 [00:00<?, ?it/s]"
      ]
     },
     "metadata": {},
     "output_type": "display_data"
    },
    {
     "name": "stdout",
     "output_type": "stream",
     "text": [
      "Generating mutations for mooshak/02/C_19_1.lp\n"
     ]
    },
    {
     "data": {
      "application/vnd.jupyter.widget-view+json": {
       "model_id": "e0b27979b773462dac86aa715dcaa130",
       "version_major": 2,
       "version_minor": 0
      },
      "text/plain": [
       "  0%|          | 0/630 [00:00<?, ?it/s]"
      ]
     },
     "metadata": {},
     "output_type": "display_data"
    },
    {
     "name": "stdout",
     "output_type": "stream",
     "text": [
      "Generating mutations for mooshak/02/C_20_0.lp\n"
     ]
    },
    {
     "data": {
      "application/vnd.jupyter.widget-view+json": {
       "model_id": "3c919bcf5e7244d3a3d49c814aac73e8",
       "version_major": 2,
       "version_minor": 0
      },
      "text/plain": [
       "  0%|          | 0/630 [00:00<?, ?it/s]"
      ]
     },
     "metadata": {},
     "output_type": "display_data"
    },
    {
     "name": "stdout",
     "output_type": "stream",
     "text": [
      "Generating mutations for mooshak/02/D_15_1.lp\n"
     ]
    },
    {
     "data": {
      "application/vnd.jupyter.widget-view+json": {
       "model_id": "8944f11ae4f64c639e330b03b1818000",
       "version_major": 2,
       "version_minor": 0
      },
      "text/plain": [
       "  0%|          | 0/630 [00:00<?, ?it/s]"
      ]
     },
     "metadata": {},
     "output_type": "display_data"
    },
    {
     "name": "stdout",
     "output_type": "stream",
     "text": [
      "Generating mutations for mooshak/02/D_19_1.lp\n"
     ]
    },
    {
     "data": {
      "application/vnd.jupyter.widget-view+json": {
       "model_id": "a79d9380369142a29d1b74265ae2475f",
       "version_major": 2,
       "version_minor": 0
      },
      "text/plain": [
       "  0%|          | 0/630 [00:00<?, ?it/s]"
      ]
     },
     "metadata": {},
     "output_type": "display_data"
    },
    {
     "name": "stdout",
     "output_type": "stream",
     "text": [
      "Generating mutations for mooshak/02/D_9_2.lp\n"
     ]
    },
    {
     "data": {
      "application/vnd.jupyter.widget-view+json": {
       "model_id": "43bea95efd8340a0af4edac24d134505",
       "version_major": 2,
       "version_minor": 0
      },
      "text/plain": [
       "  0%|          | 0/630 [00:00<?, ?it/s]"
      ]
     },
     "metadata": {},
     "output_type": "display_data"
    },
    {
     "name": "stdout",
     "output_type": "stream",
     "text": [
      "Generating mutations formooshak/02/E_15_1.lp \n"
     ]
    },
    {
     "data": {
      "application/vnd.jupyter.widget-view+json": {
       "model_id": "60f5122594a34278a2f5624c6fb6c08a",
       "version_major": 2,
       "version_minor": 0
      },
      "text/plain": [
       "  0%|          | 0/630 [00:00<?, ?it/s]"
      ]
     },
     "metadata": {},
     "output_type": "display_data"
    },
    {
     "name": "stdout",
     "output_type": "stream",
     "text": [
      "Generating mutations for\n",
      " mooshak/02/E_16_0.lp"
     ]
    },
    {
     "data": {
      "application/vnd.jupyter.widget-view+json": {
       "model_id": "7c0e7a3b05c5446fb02d85676f8a7daf",
       "version_major": 2,
       "version_minor": 0
      },
      "text/plain": [
       "  0%|          | 0/630 [00:00<?, ?it/s]"
      ]
     },
     "metadata": {},
     "output_type": "display_data"
    },
    {
     "name": "stdout",
     "output_type": "stream",
     "text": [
      "Generating mutations for mooshak/02/E_19_0.lp\n"
     ]
    },
    {
     "data": {
      "application/vnd.jupyter.widget-view+json": {
       "model_id": "7a0f9f5e5b174ad691684c898f74d205",
       "version_major": 2,
       "version_minor": 0
      },
      "text/plain": [
       "  0%|          | 0/630 [00:00<?, ?it/s]"
      ]
     },
     "metadata": {},
     "output_type": "display_data"
    },
    {
     "name": "stdout",
     "output_type": "stream",
     "text": [
      "Generating mutations for mooshak/02/E_20_0.lp\n"
     ]
    },
    {
     "data": {
      "application/vnd.jupyter.widget-view+json": {
       "model_id": "ce45bc412a8c4e6b9c4795839d66ee2c",
       "version_major": 2,
       "version_minor": 0
      },
      "text/plain": [
       "  0%|          | 0/630 [00:00<?, ?it/s]"
      ]
     },
     "metadata": {},
     "output_type": "display_data"
    },
    {
     "name": "stdout",
     "output_type": "stream",
     "text": [
      "Generating mutations for mooshak/02/E_9_0.lp\n"
     ]
    },
    {
     "data": {
      "application/vnd.jupyter.widget-view+json": {
       "model_id": "73bbfffc6891482a84bb185c398b8d24",
       "version_major": 2,
       "version_minor": 0
      },
      "text/plain": [
       "  0%|          | 0/630 [00:00<?, ?it/s]"
      ]
     },
     "metadata": {},
     "output_type": "display_data"
    }
   ],
   "source": [
    "from multiprocessing import Pool\n",
    "from tqdm.contrib.telegram import tqdm as tqdmt\n",
    "\n",
    "getLogger(\"formhe\").setLevel(logging.ERROR)\n",
    "getLogger(\"urllib3\").setLevel(logging.ERROR)\n",
    "\n",
    "results = []\n",
    "with Pool(8) as pool:\n",
    "    t = tqdmt(pool.imap_unordered(process_instance, instances, chunksize=1), total=len(instances), token=\"6534160271:AAF2Wui-s86BgQxOhtoeNV5WzYFKDv1ahkk\", chat_id=\"148166194\")\n",
    "    for r in t:\n",
    "        results += r\n",
    "\n",
    "# process_instance(\"../correct_instances/mooshak/01/A_4_8.lp\")\n",
    "\n",
    "# results = []\n",
    "# for instance in instances:\n",
    "#     results += process_instance(instance)"
   ]
  },
  {
   "cell_type": "code",
   "execution_count": null,
   "id": "e8d4e7f0090b465c",
   "metadata": {
    "ExecuteTime": {
     "end_time": "2024-03-28T13:55:05.258914Z",
     "start_time": "2024-03-28T13:55:05.254180Z"
    },
    "collapsed": false,
    "jupyter": {
     "outputs_hidden": false
    }
   },
   "outputs": [],
   "source": [
    "def tuplify(e):\n",
    "    if len(e) == 0:\n",
    "        return tuple()\n",
    "    else:\n",
    "        return tuple(e)\n",
    "\n",
    "\n",
    "results = [{k: v if not isinstance(v, list) else tuplify(v) for k, v in r.items()} for r in results]"
   ]
  },
  {
   "cell_type": "code",
   "execution_count": null,
   "id": "daf9d8d6e414be7d",
   "metadata": {
    "ExecuteTime": {
     "end_time": "2024-03-28T13:55:08.239515Z",
     "start_time": "2024-03-28T13:55:07.066696Z"
    },
    "collapsed": false,
    "jupyter": {
     "outputs_hidden": false
    }
   },
   "outputs": [],
   "source": [
    "from pandas import DataFrame\n",
    "\n",
    "df = DataFrame(results)\n",
    "df_ = df.groupby(df.columns.tolist(), as_index=False).size()\n",
    "df"
   ]
  },
  {
   "cell_type": "code",
   "execution_count": null,
   "id": "5244c5561a57f851",
   "metadata": {
    "ExecuteTime": {
     "end_time": "2024-03-28T12:53:33.300040Z",
     "start_time": "2024-03-28T12:53:33.280957Z"
    }
   },
   "outputs": [],
   "source": [
    "df_[df_[\"size\"] > 1]"
   ]
  },
  {
   "cell_type": "code",
   "execution_count": null,
   "id": "47e51c359c387fed",
   "metadata": {
    "ExecuteTime": {
     "end_time": "2024-03-28T12:53:25.565301Z",
     "start_time": "2024-03-28T12:53:25.547157Z"
    }
   },
   "outputs": [],
   "source": [
    "df.drop_duplicates()"
   ]
  },
  {
   "cell_type": "code",
   "execution_count": null,
   "id": "4671b0d5fb181668",
   "metadata": {
    "ExecuteTime": {
     "end_time": "2024-03-26T16:45:36.977045Z",
     "start_time": "2024-03-26T16:45:36.924953Z"
    },
    "collapsed": false,
    "jupyter": {
     "outputs_hidden": false
    }
   },
   "outputs": [],
   "source": [
    "df.to_feather(\"dataset_3.feather\")"
   ]
  }
 ],
 "metadata": {
  "kernelspec": {
   "display_name": "Python 3 (ipykernel)",
   "language": "python",
   "name": "python3"
  },
  "language_info": {
   "codemirror_mode": {
    "name": "ipython",
    "version": 3
   },
   "file_extension": ".py",
   "mimetype": "text/x-python",
   "name": "python",
   "nbconvert_exporter": "python",
   "pygments_lexer": "ipython3",
   "version": "3.10.12"
  }
 },
 "nbformat": 4,
 "nbformat_minor": 5
}
