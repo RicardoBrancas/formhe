{
 "cells": [
  {
   "cell_type": "code",
   "execution_count": 1,
   "id": "initial_id",
   "metadata": {
    "ExecuteTime": {
     "start_time": "2024-03-28T16:03:17.383028Z"
    },
    "jupyter": {
     "is_executing": true
    }
   },
   "source": [
    "import numpy as np\n",
    "import pandas\n",
    "import torch\n",
    "from datasets import Dataset\n",
    "from peft import TaskType, LoraConfig, get_peft_model\n",
    "from sklearn.metrics import precision_score, accuracy_score, recall_score, jaccard_score, hamming_loss\n",
    "from transformers import AutoModelForSequenceClassification, AutoTokenizer\n",
    "from transformers import Trainer, TrainingArguments, EvalPrediction\n",
    "\n",
    "MAX_LINES = 15"
   ],
   "outputs": []
  },
  {
   "cell_type": "code",
   "execution_count": 2,
   "id": "4b3a2b6b2821f2d",
   "metadata": {
    "ExecuteTime": {
     "end_time": "2024-03-26T17:20:30.074748Z",
     "start_time": "2024-03-26T17:20:26.144410Z"
    },
    "collapsed": false,
    "jupyter": {
     "outputs_hidden": false
    }
   },
   "source": [
    "# loftq_config = LoftQConfig(loftq_bits=8)\n",
    "peft_config = LoraConfig(task_type=TaskType.SEQ_CLS,\n",
    "                         # init_lora_weights=\"loftq\",\n",
    "                         # loftq_config=loftq_config,\n",
    "                         # target_modules=[\"k_proj\", \"o_proj\", \"q_proj\", \"v_proj\"],\n",
    "                         modules_to_save=[\"score\"],\n",
    "                         r=8)\n",
    "\n",
    "model = AutoModelForSequenceClassification.from_pretrained(\"google/gemma-2b-it\", num_labels=MAX_LINES+1, torch_dtype=torch.bfloat16, problem_type=\"multi_label_classification\")\n",
    "model = get_peft_model(model, peft_config)\n",
    "tokenizer = AutoTokenizer.from_pretrained(\"google/gemma-2b-it\")\n",
    "\n",
    "model.print_trainable_parameters()"
   ],
   "outputs": []
  },
  {
   "cell_type": "code",
   "execution_count": 3,
   "id": "ff1d5d52-8625-4747-9fbe-7d3b6e6ab592",
   "metadata": {},
   "source": [
    "correct_programs = {\n",
    "    \"A\" : \"\"\"color(1..k).\n",
    "node(N) :- e(_, N).\n",
    "node(N) :- e(N, _).\n",
    "1 { assign(N,C) : color(C) } 1 :- node(N).\n",
    ":- e(N,M), assign(N,C), assign(M,C).\"\"\",\n",
    "    \"B\" : \"\"\"s(X) :- e(X,E).\n",
    "k { sel(X) : s(X) } k.\n",
    "inter(X, Y) :- e(X, E), e(Y, E), X != Y.\n",
    ":- inter(X, Y), sel(X), sel(Y).\"\"\",\n",
    "    \"C\": \"\"\"v(X) :- e(X, _).\n",
    "s(X) :- e(_, X).\n",
    "0 { sel(X) : s(X) } k.\n",
    "cov(X) :- v(X), e(X, S), sel(S).\n",
    ":- not cov(X), v(X).\"\"\",\n",
    "    \"D\": \"\"\"vx(X) :- e(X,Y).\n",
    "vx(X) :- e(Y,X).\n",
    "0 { sel(X) : vx(X) } k.\n",
    ":- not sel(X), not sel(Y), e(X,Y).\"\"\",\n",
    "    \"E\" : \"\"\"1 { set(X, a) ; set (X, b) } 1 :- vertex(X).\n",
    ":- edge(X, Y), set(X, S), set(Y, S).\"\"\"\n",
    "}\n",
    "\n",
    "def prompt(instance):\n",
    "    # return instance[\"incorrect_program\"]\n",
    "    correct = correct_programs[instance[\"instance\"][11]]\n",
    "    incorrect = \"\\n\".join(map(lambda x: f\"<{x[0]}>{x[1]}\", enumerate(instance[\"incorrect_program\"].splitlines())))\n",
    "    prompt = f\"<correct>{correct}\\n<incorrect>{incorrect}\"\n",
    "    return prompt"
   ],
   "outputs": []
  },
  {
   "cell_type": "code",
   "execution_count": 4,
   "id": "2522e2bc5661f81c",
   "metadata": {
    "ExecuteTime": {
     "end_time": "2024-03-26T17:20:37.176764Z",
     "start_time": "2024-03-26T17:20:34.169263Z"
    },
    "collapsed": false,
    "jupyter": {
     "outputs_hidden": false
    }
   },
   "source": [
    "df = pandas.read_feather(\"dataset_3.feather\")\n",
    "ds = Dataset.from_pandas(df)\n",
    "ds = ds.train_test_split(test_size=0.1, seed=42)\n",
    "ds = ds.map(lambda instance: {\"text\": prompt(instance), \"labels\": [1 if instance[\"missing_lines\"] else 0] + list(instance[\"line_scores\"]) + [0] * max(0, MAX_LINES - len(instance[\"line_scores\"]))}, batched=False)\n",
    "ds = ds.map(lambda examples: tokenizer(examples[\"text\"], padding=True, truncation=True, return_tensors=\"pt\"), batched=True)\n",
    "ds.set_format(type=\"torch\", columns=[\"input_ids\", \"attention_mask\", \"labels\"], device=\"cuda\")"
   ],
   "outputs": []
  },
  {
   "cell_type": "code",
   "execution_count": 5,
   "id": "a20b942c5742d29b",
   "metadata": {
    "ExecuteTime": {
     "end_time": "2024-03-26T17:20:43.548673Z",
     "start_time": "2024-03-26T17:20:41.211087Z"
    },
    "collapsed": false,
    "jupyter": {
     "outputs_hidden": false
    }
   },
   "source": [
    "def multi_label_metrics(predictions, labels, threshold=0.5):\n",
    "    # first, apply sigmoid on predictions which are of shape (batch_size, num_labels)\n",
    "    sigmoid = torch.nn.Sigmoid()\n",
    "    probs = sigmoid(torch.Tensor(predictions))\n",
    "    # next, use threshold to turn them into integer predictions\n",
    "    y_pred = np.zeros(probs.shape)\n",
    "    y_pred[np.where(probs >= threshold)] = 1\n",
    "    # finally, compute metrics\n",
    "    y_true = labels\n",
    "    accuracy = accuracy_score(y_true, y_pred)\n",
    "    precision = precision_score(y_true=y_true, y_pred=y_pred, average='micro')\n",
    "    recall = recall_score(y_true=y_true, y_pred=y_pred, average='micro')\n",
    "    jaccard = jaccard_score(y_true, y_pred, average='micro')\n",
    "    hamming = hamming_loss(y_true, y_pred)\n",
    "    # return as dictionary\n",
    "    metrics = {'accuracy': accuracy,\n",
    "               'precision': precision,\n",
    "               'recall': recall,\n",
    "               'jaccard': jaccard,\n",
    "              'hamming': hamming}\n",
    "    return metrics\n",
    "\n",
    "\n",
    "def compute_metrics(p: EvalPrediction):\n",
    "    preds = p.predictions[0] if isinstance(p.predictions, tuple) else p.predictions\n",
    "    result = multi_label_metrics(predictions=preds, labels=p.label_ids)\n",
    "    return result\n",
    "\n",
    "\n",
    "trainer = Trainer(\n",
    "    model=model,\n",
    "    args=TrainingArguments(\n",
    "        output_dir=\"./\",\n",
    "        remove_unused_columns=False,\n",
    "        learning_rate=1e-4,\n",
    "        per_device_train_batch_size=4,\n",
    "        per_device_eval_batch_size=4,\n",
    "        num_train_epochs=2,\n",
    "        evaluation_strategy=\"steps\",\n",
    "        save_strategy=\"steps\",\n",
    "        eval_steps=500,\n",
    "        load_best_model_at_end=True\n",
    "    ),\n",
    "    train_dataset=ds[\"train\"],\n",
    "    eval_dataset=ds[\"test\"],\n",
    "    tokenizer=tokenizer,\n",
    "    compute_metrics=compute_metrics\n",
    ")"
   ],
   "outputs": []
  },
  {
   "cell_type": "code",
   "execution_count": 6,
   "id": "e65a04ce-f47d-47a5-b576-cbc37782002e",
   "metadata": {},
   "source": [
    "#trainer.evaluate()"
   ],
   "outputs": []
  },
  {
   "cell_type": "code",
   "execution_count": 7,
   "id": "3343a42470ae6472",
   "metadata": {
    "ExecuteTime": {
     "end_time": "2024-03-26T17:35:49.155779Z",
     "start_time": "2024-03-26T17:20:46.407176Z"
    },
    "collapsed": false,
    "jupyter": {
     "outputs_hidden": false
    }
   },
   "source": [
    "trainer.train()"
   ],
   "outputs": []
  },
  {
   "cell_type": "code",
   "execution_count": null,
   "id": "ad2bf003-d739-4f94-a777-c8b321ee0608",
   "metadata": {},
   "source": [
    "def predict(predictions, threshold=0.5):\n",
    "    sigmoid = torch.nn.Sigmoid()\n",
    "    probs = sigmoid(torch.Tensor(predictions))\n",
    "    # next, use threshold to turn them into integer predictions\n",
    "    y_pred = np.zeros(probs.shape)\n",
    "    y_pred[np.where(probs >= threshold)] = 1\n",
    "    return y_pred\n",
    "\n",
    "\n",
    "text = \"\"\"color((1..k)).\n",
    "node(N) :- e(N, _).\n",
    " :- e(N, M), assign(N, C), assign(M, C).\n",
    " 1 { assign(N, C) : color(C) } 1 :- node(N).\"\"\"\n",
    "\n",
    "inputs = tokenizer(text, return_tensors=\"pt\").to(\"cuda\")\n",
    "output = model(**inputs)\n",
    "predict(output[0].cpu()[0])"
   ],
   "outputs": []
  },
  {
   "cell_type": "code",
   "execution_count": null,
   "id": "0f342f74-c2a5-4a44-8f4f-7e5b4a907d84",
   "metadata": {
    "ExecuteTime": {
     "end_time": "2024-03-26T17:38:55.270286Z",
     "start_time": "2024-03-26T17:38:54.931888Z"
    }
   },
   "source": [
    "#model.save_pretrained(\"lora_it_full_datasetv2_promptv1\")"
   ],
   "outputs": []
  }
 ],
 "metadata": {
  "kernelspec": {
   "display_name": "Python 3 (ipykernel)",
   "language": "python",
   "name": "python3"
  },
  "language_info": {
   "codemirror_mode": {
    "name": "ipython",
    "version": 3
   },
   "file_extension": ".py",
   "mimetype": "text/x-python",
   "name": "python",
   "nbconvert_exporter": "python",
   "pygments_lexer": "ipython3",
   "version": "3.11.7"
  }
 },
 "nbformat": 4,
 "nbformat_minor": 5
}
