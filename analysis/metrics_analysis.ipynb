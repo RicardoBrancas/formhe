{
 "cells": [
  {
   "cell_type": "code",
   "id": "initial_id",
   "metadata": {
    "ExecuteTime": {
     "end_time": "2024-06-26T15:52:13.782354Z",
     "start_time": "2024-06-26T15:52:13.766448Z"
    }
   },
   "source": [
    "import pandas\n",
    "import math\n",
    "\n",
    "data = pandas.read_csv(\"data/288.csv\")\n",
    "data = data[data[\"fault.identified\"] == \"Superset (first MCS)\"]\n",
    "\n",
    "max_labels = 100"
   ],
   "outputs": [],
   "execution_count": 2
  },
  {
   "cell_type": "code",
   "id": "1e0f1d59519812aa",
   "metadata": {
    "collapsed": false,
    "jupyter": {
     "outputs_hidden": false
    },
    "ExecuteTime": {
     "end_time": "2024-06-26T16:13:01.518805Z",
     "start_time": "2024-06-26T16:13:01.512332Z"
    }
   },
   "source": [
    "def parse_predictions(p):\n",
    "    if isinstance(p, float) and math.isnan(p):\n",
    "        p = \"[{}]\"\n",
    "    p = eval(p)[0]\n",
    "    return p\n",
    "\n",
    "def parse_truth(p, i):\n",
    "    if isinstance(p, float) and math.isnan(p):\n",
    "        p = \"{}\"\n",
    "    p = eval(p)\n",
    "    return set(p[int(i)])\n",
    "\n",
    "predictions = [parse_predictions(e) for e in data[\"fl.sorted\"]]\n",
    "truth = [parse_truth(e, i) for e, i in zip(data[\"selfeval.lines\"], data[\"selfeval.selected.index\"])]"
   ],
   "outputs": [],
   "execution_count": 20
  },
  {
   "metadata": {
    "ExecuteTime": {
     "end_time": "2024-06-26T16:13:03.829404Z",
     "start_time": "2024-06-26T16:13:03.825255Z"
    }
   },
   "cell_type": "code",
   "source": [
    "import statistics\n",
    "\n",
    "n_extra_lines_in_fl = []\n",
    "\n",
    "for p, t in zip(predictions, truth):\n",
    "    n_extra_lines_in_fl.append(len(p - t))\n",
    "\n",
    "print(\"Mean:\", statistics.mean(n_extra_lines_in_fl))\n",
    "print(\"Median:\", statistics.median(n_extra_lines_in_fl))\n",
    "print(\"Number of cases with only one extra line:\", len([n for n in n_extra_lines_in_fl if n <= 1]) / len(n_extra_lines_in_fl))\n",
    "print(\"Max number of extra line:\", max(n_extra_lines_in_fl))"
   ],
   "id": "f3426b9aa9e81b0b",
   "outputs": [
    {
     "name": "stdout",
     "output_type": "stream",
     "text": [
      "Mean: 1.2636363636363637\n",
      "Median: 1.0\n",
      "Number of cases with only one extra line: 0.7818181818181819\n",
      "Max number of extra line: 3\n"
     ]
    }
   ],
   "execution_count": 21
  }
 ],
 "metadata": {
  "kernelspec": {
   "display_name": "Python 3 (ipykernel)",
   "language": "python",
   "name": "python3"
  },
  "language_info": {
   "codemirror_mode": {
    "name": "ipython",
    "version": 3
   },
   "file_extension": ".py",
   "mimetype": "text/x-python",
   "name": "python",
   "nbconvert_exporter": "python",
   "pygments_lexer": "ipython3",
   "version": "3.10.12"
  }
 },
 "nbformat": 4,
 "nbformat_minor": 5
}
